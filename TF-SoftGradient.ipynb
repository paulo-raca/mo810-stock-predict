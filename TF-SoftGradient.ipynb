{
 "cells": [
  {
   "cell_type": "code",
   "execution_count": null,
   "metadata": {},
   "outputs": [],
   "source": [
    "import numpy as np\n",
    "import matplotlib.pyplot as plt\n",
    "import tensorflow as tf\n",
    "import softops"
   ]
  },
  {
   "cell_type": "code",
   "execution_count": null,
   "metadata": {
    "scrolled": false
   },
   "outputs": [],
   "source": [
    "with tf.Graph().as_default():\n",
    "    x = tf.placeholder(tf.float32, shape=(None), name=\"x\")\n",
    "    \n",
    "    for scale in [1, 10, 100]:\n",
    "        for y1, y2 in [(tf.sin(10*x), 3*x**2), (10+3*x, 3)]:\n",
    "            y = softops.threshold(x, y1, y2, softness=0.2, soft_value=False, soft_grad=True)\n",
    "            y_soft = softops.threshold(x, y1, y2, softness=.2, soft_value=True, soft_grad=True)\n",
    "\n",
    "\n",
    "            #y = softops.positive(x, softness=1, soft_value=False)\n",
    "            #y_soft = softops.positive(x, softness=1, soft_value=True)\n",
    "\n",
    "            #y = softops.gt(x, scale/2, percent=True, softness=0.3, soft_value=False)\n",
    "            #y_soft = softops.gt(x, scale/2, percent=False, softness=0.3, soft_value=True)\n",
    "\n",
    "            #y = (x + 5)*(1-y) + 2*(y)\n",
    "            #y_soft = (x + 5)*(1-y_soft) + 2*(y_soft)\n",
    "\n",
    "            gradient = tf.gradients(y, [x])\n",
    "\n",
    "            with tf.Session() as session:\n",
    "                data_x = np.linspace(-scale, scale, 1001)\n",
    "                data_y, data_y_soft, data_grad = session.run([y, y_soft, gradient], feed_dict={x: data_x})\n",
    "\n",
    "                #print(data_y)\n",
    "                #print(data_grad)\n",
    "                plt.grid(True)\n",
    "                plt.plot(\n",
    "                    data_x, data_y, 'r-', \n",
    "                    data_x, data_y_soft, 'g-', \n",
    "                    data_x, data_grad[0], 'b-'\n",
    "                )\n",
    "                plt.show()"
   ]
  }
 ],
 "metadata": {
  "kernelspec": {
   "display_name": "Python 3",
   "language": "python",
   "name": "python3"
  },
  "language_info": {
   "codemirror_mode": {
    "name": "ipython",
    "version": 3
   },
   "file_extension": ".py",
   "mimetype": "text/x-python",
   "name": "python",
   "nbconvert_exporter": "python",
   "pygments_lexer": "ipython3",
   "version": "3.6.5"
  }
 },
 "nbformat": 4,
 "nbformat_minor": 2
}
